{
 "cells": [
  {
   "cell_type": "code",
   "execution_count": 2,
   "id": "d9c000e1",
   "metadata": {},
   "outputs": [
    {
     "data": {
      "text/plain": [
       "datetime.date(2022, 12, 12)"
      ]
     },
     "execution_count": 2,
     "metadata": {},
     "output_type": "execute_result"
    }
   ],
   "source": [
    "#write the current date as a string \n",
    "from datetime import date\n",
    "now = date.today()\n",
    "now"
   ]
  },
  {
   "cell_type": "code",
   "execution_count": 3,
   "id": "8b81bca7",
   "metadata": {},
   "outputs": [
    {
     "data": {
      "text/plain": [
       "datetime.datetime(2022, 12, 12, 12, 0)"
      ]
     },
     "execution_count": 3,
     "metadata": {},
     "output_type": "execute_result"
    }
   ],
   "source": [
    "#read the text file into a string\n",
    "from datetime import datetime, time, date\n",
    "noon = time(12)\n",
    "this_day = date.today()\n",
    "noon_today = datetime.combine(this_day, noon)\n",
    "noon_today"
   ]
  },
  {
   "cell_type": "code",
   "execution_count": 46,
   "id": "768ade69",
   "metadata": {},
   "outputs": [
    {
     "name": "stdout",
     "output_type": "stream",
     "text": [
      "I'm main, in the process 82792\n"
     ]
    },
    {
     "data": {
      "text/plain": [
       "datetime.datetime(2022, 12, 12, 14, 14, 33, 709676)"
      ]
     },
     "execution_count": 46,
     "metadata": {},
     "output_type": "execute_result"
    }
   ],
   "source": [
    "#create three processes, a random number of secs between zero, and one, print current time, and exit\n",
    "import multiprocessing\n",
    "import time\n",
    "import os\n",
    "\n",
    "def raghean(name):\n",
    "    print(\"I'm %s, in the process %s\" % (name, os.getpid()))\n",
    "    \n",
    "def grice(name):\n",
    "    raghean(name)\n",
    "    start = 0\n",
    "    stop = 1\n",
    "    for num in range(start,stop):\n",
    "        print(\"\\tNumber %s of %s.  Shucks!\" % (num,stop))\n",
    "        time.sleep(0)\n",
    "\n",
    "\n",
    "if __name__ == \"__main__\":\n",
    "    raghean(\"main\")\n",
    "    p = multiprocessing.Process(target=grice, args=(\"grice\",))\n",
    "    p.start()\n",
    "    time.sleep(1)\n",
    "    p.terminate()\n",
    "        \n",
    "from datetime import datetime, time, date\n",
    "noon = time(12)\n",
    "this_day = date.today()\n",
    "noon_today = datetime.combine(this_day, noon)\n",
    "noon_today\n",
    "\n",
    "\n",
    "from datetime import datetime\n",
    "now = datetime.now()\n",
    "\n",
    "now.year\n",
    "\n",
    "now.month\n",
    "\n",
    "now.day\n",
    "\n",
    "now.hour\n",
    "\n",
    "now.minute\n",
    "\n",
    "now.second\n",
    "\n",
    "now.microsecond\n",
    "\n",
    "now\n"
   ]
  },
  {
   "cell_type": "code",
   "execution_count": 47,
   "id": "76e3dc3b",
   "metadata": {},
   "outputs": [
    {
     "data": {
      "text/plain": [
       "'Mon Dec 12 14:16:07 2022'"
      ]
     },
     "execution_count": 47,
     "metadata": {},
     "output_type": "execute_result"
    }
   ],
   "source": [
    "import time\n",
    "now = time.time()\n",
    "now\n",
    "time.ctime(now)"
   ]
  },
  {
   "cell_type": "code",
   "execution_count": null,
   "id": "e334ecb3",
   "metadata": {},
   "outputs": [],
   "source": []
  }
 ],
 "metadata": {
  "kernelspec": {
   "display_name": "Python 3 (ipykernel)",
   "language": "python",
   "name": "python3"
  },
  "language_info": {
   "codemirror_mode": {
    "name": "ipython",
    "version": 3
   },
   "file_extension": ".py",
   "mimetype": "text/x-python",
   "name": "python",
   "nbconvert_exporter": "python",
   "pygments_lexer": "ipython3",
   "version": "3.9.12"
  }
 },
 "nbformat": 4,
 "nbformat_minor": 5
}
